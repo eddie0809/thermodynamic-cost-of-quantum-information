{
 "cells": [
  {
   "cell_type": "code",
   "execution_count": 5,
   "metadata": {},
   "outputs": [],
   "source": [
    "import numpy as np\n",
    "import matplotlib as mpl\n",
    "import matplotlib.pyplot as plt\n",
    "import prep_state\n",
    "from numpy import linalg as LA\n",
    "from numpy import log as ln\n",
    "from time_evo import *\n",
    "from qutip import *\n",
    "\n",
    "# for using tex formatting and font in plots\n",
    "#\"\"\"\n",
    "plt.rcParams.update({\"text.usetex\": True,}) \n",
    "mpl.rcParams['text.latex.preamble'] = [r'\\usepackage[utf8]{inputenc}\\usepackage[T1]{fontenc}\\usepackage{lmodern}\\inputencoding{utf8}\\usepackage{amsmath}\\usepackage{amssymb}\\usepackage{dsfont}\\usepackage{mathtools}\\usepackage{physics}']\n",
    "mpl.rc('font', **{'family':'sans-serif', 'size':11})\n",
    "cmap = mpl.cm.get_cmap('viridis')#['viridis', 'plasma', 'inferno', 'magma', 'cividis']\n",
    "#\"\"\""
   ]
  },
  {
   "cell_type": "code",
   "execution_count": 6,
   "metadata": {},
   "outputs": [],
   "source": [
    "## a lot of functions\n",
    "#\n",
    "def thermal_state(beta):\n",
    "    rho = (-beta *sigmaz()).expm()\n",
    "    Z = rho.tr()\n",
    "    rho = rho/Z\n",
    "    return rho\n",
    "\n",
    "\n",
    "def timeEvo(dt, rho, Hint): # time evolution of an operator rho, SE approach as opposed to me approach\n",
    "\tU = (-1.j * Hint * dt).expm()\n",
    "\tUd = (1.j * Hint * dt).expm()\n",
    "\trho = rho * Ud\n",
    "\treturn U * rho\n",
    "\n",
    "\n",
    "def initSystem(first_second_state, N):\n",
    "\trhoSystem = first_second_state #+ alpha * tensor(Qobj([[0,1],[0,0]]), Qobj([[0,0],[1,0]])) + astar * tensor(Qobj([[0,0],[1,0]]), Qobj([[0,1],[0,0]]))\n",
    "\tfor i in range(1,N):\n",
    "\t\trhoSystem = tensor(rhoSystem, Qobj([[0,0],[0,1]]))\n",
    "\treturn rhoSystem\n",
    "\n",
    "def writetxt(filename, quantity):\n",
    "    quantity = np.real(quantity)\n",
    "    with open(str(filename) + \".txt\", \"w\") as f:\n",
    "        for element in quantity:\n",
    "            f.write(str(element) + '\\n')\n",
    "\n",
    "            \n",
    "def integrate(N, psi0, tlist, solver, interaction):\n",
    "\n",
    "    si = qeye(2)\n",
    "    sx = sigmax()\n",
    "    sy = sigmay()\n",
    "    sz = sigmaz()\n",
    "\n",
    "    sx_list = []\n",
    "    sy_list = []\n",
    "    sz_list = []\n",
    "\n",
    "    for n in range(N+1):\n",
    "        op_list = [si for m in range(N+1)]\n",
    "\n",
    "        op_list[n] = sx\n",
    "        sx_list.append(tensor(op_list))\n",
    "\n",
    "        op_list[n] = sy\n",
    "        sy_list.append(tensor(op_list))\n",
    "\n",
    "        op_list[n] = sz\n",
    "        sz_list.append(tensor(op_list))\n",
    "\n",
    "    # construct the hamiltonian\n",
    "    H = generate_states(N, interaction)\n",
    "\n",
    "    # energy splitting terms\n",
    "\n",
    "    # interaction terms\n",
    "    \n",
    "\n",
    "    # collapse operators\n",
    "    c_op_list = []\n",
    "\n",
    "\n",
    "    # evolve and calculate expectation values\n",
    "    if solver == \"me\":\n",
    "        result = mesolve(H, psi0, tlist, c_op_list, sz_list)\n",
    "    elif solver == \"mc\":\n",
    "        ntraj = 250 \n",
    "        result = mcsolve(H, psi0, tlist, c_op_list, sz_list, ntraj)\n",
    "    return result.expect\n"
   ]
  },
  {
   "cell_type": "code",
   "execution_count": 7,
   "metadata": {},
   "outputs": [],
   "source": [
    "## define constants\n",
    "#\n",
    "\n",
    "\n",
    "cm = 1/2.54\n",
    "N=4\n",
    "betas = np.insert(np.logspace(-.3,ln(2)/ln(10), 4, endpoint=False), 0, 1/300)\n",
    "betaOne = 1/300\n",
    "betaTwo = 1/300\n",
    "beta = 1\n",
    "hbar = ln(2)**2\n",
    "\n",
    "#alpha = 1.j * .25 * 1/(np.cosh(beta))**2\n",
    "#astar = -alpha\n",
    "n = 3200\n",
    "dt = 1e-3\n",
    "t = np.linspace(0, n*dt, n)"
   ]
  },
  {
   "cell_type": "code",
   "execution_count": 8,
   "metadata": {},
   "outputs": [
    {
     "name": "stdout",
     "output_type": "stream",
     "text": [
      "[9.71445147e-17 2.48336117e-01 2.51669438e-01 4.99994444e-01] 0.2499972222427982j\n",
      "\n",
      "[0.00083194 0.24833612 0.25166944 0.49916251] 0.24916528550020484j\n",
      "\n",
      "[0.00819588 0.24833612 0.25166944 0.49179856] 0.24180133842901266j\n",
      "0.9999999989694232\n"
     ]
    }
   ],
   "source": [
    "## initiate States\n",
    "\n",
    "thermal_states = [thermal_state(betaOne), thermal_state(betaTwo), thermal_state(beta)]\n",
    "\n",
    "alpha = 1.j / (4*np.cosh(betaOne)*np.cosh(betaTwo))\n",
    "chi = alpha * tensor(Qobj([[0,1],[0,0]]), Qobj([[0,0],[1,0]])) - alpha * tensor(Qobj([[0,0],[1,0]]), Qobj([[0,1],[0,0]]))\n",
    "\n",
    "corr_state = tensor(thermal_states[0], thermal_states[1]) + chi\n",
    "corr_state_fail = tensor(thermal_states[0], thermal_states[1]) + (np.exp(-(betaOne+betaTwo)/2))*chi\n",
    "corr_state_low = tensor(thermal_states[0], thermal_states[1]) + (np.exp(-(betaOne+betaTwo)*5))*chi\n",
    "bell_states = bell_state('11')*bell_state('11').dag()\n",
    "\n",
    "print(corr_state.eigenenergies(), alpha)\n",
    "print()\n",
    "print(corr_state_fail.eigenenergies(), alpha*np.exp((-betaOne-betaTwo)/2))\n",
    "print()\n",
    "print(corr_state_low.eigenenergies(), alpha*np.exp((-betaOne-betaTwo)*5))\n",
    "\n",
    "first_state = Qobj([[1,0],[0,0]])\n",
    "second_state = Qobj([[0,0],[0,1]])\n",
    "third_state = Qobj([[0,0],[0,1]])\n",
    "fourth_state = Qobj([[0,0],[0,1]])\n",
    "fifth_state = Qobj([[0,0],[0,1]])\n",
    "\n",
    "excited_state = first_state\n",
    "ground_state = second_state\n",
    "\n",
    "rho_system_pleasedontcrash = tensor(excited_state, ground_state, ground_state, ground_state, ground_state,ground_state, ground_state,ground_state, ground_state,ground_state)\n",
    "\n",
    "corr_system_fail = tensor(corr_state_fail, third_state, fourth_state, fifth_state)      # old alpha\n",
    "corr_system_low = tensor(corr_state_low, third_state, fourth_state, fifth_state)      # old alpha\n",
    "\n",
    "rho_system = tensor(first_state, second_state, third_state, fourth_state, fifth_state)  # vanilla system, no correlations\n",
    "bell_system = tensor(bell_states, third_state, fourth_state, fifth_state)               # entangled first two qubits\n",
    "corr_12_systempleasedontcrash = tensor(corr_state, third_state, fourth_state, fifth_state, ground_state,ground_state,ground_state,ground_state,ground_state,)             # thermal correlations between 1 and 2\n",
    "corr_23_system = tensor(first_state, corr_state, fourth_state, fifth_state)             # thermal correlations between 2 and 3\n",
    "corr_34_system = tensor(first_state, second_state, corr_state, fifth_state)             # thermal correlations between 3 and 4\n",
    "corr_45_system = tensor(first_state, second_state, third_state, corr_state)             # thermal correlations between 4 and 5\n",
    "\n",
    "corr_systems = [corr_system_fail, corr_system_low]#[corr_12_system, corr_23_system, corr_34_system, corr_45_system]         # all correlated systems, for better computing\n",
    "\n",
    "H_hom = generate_states(N, \"hom\")\n",
    "H_perf = generate_states(N, \"perf\")\n",
    "H_long = generate_states(N, \"long-range\")\n",
    "\n",
    "print(fidelity(thermal_state(10), third_state))"
   ]
  },
  {
   "cell_type": "code",
   "execution_count": 6,
   "metadata": {},
   "outputs": [
    {
     "data": {
      "image/png": "[encoded data removed]",
      "text/plain": [
       "<Figure size 340.157x170.079 with 1 Axes>"
      ]
     },
     "metadata": {
      "needs_background": "light"
     },
     "output_type": "display_data"
    }
   ],
   "source": [
    "## veryfirstplotsxdd\n",
    "#\n",
    "i = -1\n",
    "t=np.linspace(0,3.2,321)\n",
    "#hmm = [2007, 2008]\n",
    "pos=1\n",
    "cm=1/2.54\n",
    "\n",
    "pos=pos+11\n",
    "\n",
    "sz = integrate(N, rho_system, t, \"me\", \"perf\")\n",
    "\n",
    "fig, ax = plt.subplots(figsize=(12*cm,6*cm))\n",
    "\n",
    "for n in range(N+1):\n",
    "    ax.plot(t, sz[n], label=r\"$\\expval{\\sigma^z_{%d}}$\"%(n+1), lw=1.5, color=cmap((n+1)/(N+2)))\n",
    "#ax.axhline(0,color='grey', ls='--')\n",
    "#ax.axhline(sz[0][0], color='grey', ls='--')\n",
    "#ax.axvline(np.pi, color='grey', ls=':')\n",
    "ax.set_xlabel(r'Time')\n",
    "ax.set_ylabel(r'$\\expval{\\sigma^z_i}$')\n",
    "\n",
    "\n",
    "fig.legend(loc=8, ncol=5)\n",
    "fig.tight_layout()\n",
    "fig.subplots_adjust(bottom=.34)\n",
    "#plt.savefig(\"alltheplots/ten/perf_expval_z_smol.pdf\")"
   ]
  },
  {
   "cell_type": "code",
   "execution_count": 12,
   "metadata": {},
   "outputs": [],
   "source": [
    "## calculate time evolution\n",
    "t=np.linspace(0,3.2,3201)\n",
    "#perf_evo = qutip.mesolve(H_perf, rho_system, t, [], []).states\n",
    "bell_evo = qutip.mesolve(H_perf, bell_system, t, [], []).states\n",
    "#corr_evo12 = qutip.mesolve(H_perf, corr_12_systempleasedontcrash, t, [], []).states\n",
    "#corr_evo23 = qutip.mesolve(H_perf, corr_23_system, t, [], []).states\n",
    "#corr_evo34 = qutip.mesolve(H_perf, corr_34_system, t, [], []).states\n",
    "#corr_evo45 = qutip.mesolve(H_perf, corr_45_system, t, [], []).states\n",
    "#\n",
    "#corr_evo_list = [corr_evo12, corr_evo23, corr_evo34, corr_evo45]\n",
    "\n",
    "#t=np.linspace(0,2,2000)\n",
    "#hom_evo = qutip.mesolve(H_hom, rho_system, t, [], []).states\n",
    "#t=np.linspace(0,5,5000)\n",
    "\n",
    "#long_evo = qutip.mesolve(H_long, rho_system, t, [], []).states"
   ]
  },
  {
   "cell_type": "code",
   "execution_count": 17,
   "metadata": {},
   "outputs": [
    {
     "name": "stdout",
     "output_type": "stream",
     "text": [
      "1.386294361119891\n",
      "0.3465697394908278\n"
     ]
    }
   ],
   "source": [
    "test_bell = bell_state('11')*bell_state('11').dag()\n",
    "test_kaonan = corr_state\n",
    "\n",
    "print(entropy_relative(test_bell, 0.25*qeye([2,2])))\n",
    "print(entropy_relative(test_kaonan, tensor(thermal_state(1/300), thermal_state(1/300))))\n",
    "\n"
   ]
  },
  {
   "cell_type": "code",
   "execution_count": 14,
   "metadata": {},
   "outputs": [],
   "source": [
    "#vn_perf = [entropy_vn(perf_evo[dt].ptrace(N), base=np.e) for dt in range(len(t))]\n",
    "dkl_bell = [entropy_relative(bell_evo[0].ptrace(0), bell_evo[dt].ptrace(N)) for dt in range(len(t))]\n",
    "#dkl_dot_perf = np.diff(dkl_perf)/(dt)\n",
    "#i_dot_perf = np.diff(vn_perf)/dt\n",
    "#i_dot_sq_perf = np.square(np.diff(vn_perf)/t[1])\n",
    "#pendrybound_perf = [-1.j *(np.pi/(3*ln(2)**2)) * (commutator(H_perf, perf_evo[dt]).ptrace(N) * (sigmaz())).tr() for dt in range(len(t))]\n",
    "with open(\"txtfiles/bell/kullback-unfailed.npy\", 'wb') as f:\n",
    "    np.save(f, dkl_bell)"
   ]
  },
  {
   "cell_type": "code",
   "execution_count": 46,
   "metadata": {},
   "outputs": [
    {
     "name": "stderr",
     "output_type": "stream",
     "text": [
      "/usr/lib/python3/dist-packages/matplotlib/cbook/__init__.py:1365: ComplexWarning: Casting complex values to real discards the imaginary part\n",
      "  return np.asarray(x, float)\n"
     ]
    },
    {
     "data": {
      "image/png": "[encoded data removed]",
      "text/plain": [
       "<Figure size 864x360 with 1 Axes>"
      ]
     },
     "metadata": {
      "needs_background": "light"
     },
     "output_type": "display_data"
    }
   ],
   "source": [
    "cm=1#/2.54\n",
    "fig, axs1= plt.subplots(figsize=(12*cm,5*cm))\n",
    "axs1.axhline(0, color=\"grey\", ls='--', linewidth=1)\n",
    "axs1.plot(t[:-1], i_dot_sq_perf, label=r\"$\\dot{I}^2$\", color=cmap(2/3), ls='-')\n",
    "axs1.plot(t, pendrybound_perf, label=r\"$\\frac{\\pi}{3\\ln^22}\\dot{E}$\", color=cmap(1/3), ls='-')\n",
    "#axs1.plot(t, bounds[0], label=r\"old bound\", color = mpl.cm.get_cmap('cividis')(1/3), ls=(0,(5,1.5)), lw=1)\n",
    "#axs1.axvline(2.428, color='grey', ls=':', linewidth=1)\n",
    "#axs1.axvline(4.42, color='grey', ls=':', linewidth=1)\n",
    "#axs1.set_ylim(-1,3)\n",
    "#axs1.set_xlim(2.5, 2.65)\n",
    "axs1.set_xlabel(r'Time')\n",
    "#axs1.set_xlim()\n",
    "fig.legend(loc=7)\n",
    "fig.tight_layout()\n",
    "fig.subplots_adjust(right=.78)"
   ]
  },
  {
   "cell_type": "code",
   "execution_count": 90,
   "metadata": {},
   "outputs": [
    {
     "name": "stdout",
     "output_type": "stream",
     "text": [
      "0.9999999999999998 3121\n"
     ]
    }
   ],
   "source": [
    "## quantities for perfect transfer\n",
    "\n",
    "t=np.linspace(0,3.2,3200)\n",
    "\n",
    "fid_perf  = [fidelity(rho_system.ptrace(0), perf_evo[dt].ptrace(N)) for dt in range(len(t))]\n",
    "dkl_perf  = [entropy_relative(rho_system.ptrace(0), perf_evo[dt].ptrace(N)) for dt in range(len(t))]\n",
    "\n",
    "max_value = max(fid_perf)\n",
    "max_index = fid_perf.index(max_value)\n",
    "\n",
    "print(max_value, max_index)\n",
    "\n",
    "vn_perf = [entropy_vn(perf_evo[dt].ptrace(N), base=np.e) for dt in range(len(t))]\n",
    "#dkl_perf = [entropy_relative(perf_evo[dt].ptrace(N), fifth_state) for dt in range(len(t))]\n",
    "#dkl_dot_perf = np.diff(dkl_perf)/(dt)\n",
    "#i_dot_perf = np.diff(vn_perf)/dt\n",
    "i_dot_sq_perf = np.square(np.diff(vn_perf)/dt)\n",
    "pendrybound_perf = [-1.j *(np.pi/(3*hbar)) * (commutator(H_perf, perf_evo[dt]).ptrace(N) * (sigmaz())).tr() for dt in range(len(t))]\n",
    "\n",
    "writetxt(\"txtfiles/j_var/fidelity\", fid_perf)\n",
    "writetxt(\"txtfiles/j_var/dkl\", dkl_perf)\n",
    "writetxt(\"txtfiles/j_var/infoflow\", i_dot_sq_perf)\n",
    "writetxt(\"txtfiles/j_var/pendrybound\", np.real(pendrybound_perf))\n",
    "writetxt(\"txtfiles/j_var/maxfid\", [max_value, max_index])"
   ]
  },
  {
   "cell_type": "code",
   "execution_count": 65,
   "metadata": {},
   "outputs": [
    {
     "name": "stdout",
     "output_type": "stream",
     "text": [
      "0.8430555166626655 4419\n",
      "\n",
      "0.49984807813553067 2427\n"
     ]
    }
   ],
   "source": [
    "## quantities for long range interaction\n",
    "\n",
    "fid_long  = [fidelity(first_state, long_evo[dt].ptrace(N)) for dt in range(len(t))]\n",
    "dkl_long  = [entropy_relative(first_state, long_evo[dt].ptrace(N)) for dt in range(len(t))]\n",
    "\n",
    "max_value_long = max(fid_long)\n",
    "max_value_long_2 = max(fid_long[:3000])\n",
    "max_index_long = fid_long.index(max_value_long)\n",
    "max_index_long_2 = fid_long.index(max_value_long_2)\n",
    "print(max_value_long, max_index_long)\n",
    "print()\n",
    "print(max_value_long_2, max_index_long_2)\n",
    "\n",
    "\n",
    "vn_long = [entropy_vn(long_evo[dt].ptrace(N), base=np.e) for dt in range(len(t))]\n",
    "i_dot_sq_long = np.square(np.diff(vn_long)/dt)\n",
    "pendrybound_long = [-1.j *(np.pi/(3*hbar)) * (commutator(H_long, long_evo[dt]).ptrace(N) * (sigmaz())).tr() for dt in range(len(t))]\n",
    "\n",
    "writetxt(\"txtfiles/longrange/fidelity\", fid_long)\n",
    "writetxt(\"txtfiles/longrange/kld\", dkl_long)\n",
    "writetxt(\"txtfiles/longrange/infoflow\", i_dot_sq_long)\n",
    "writetxt(\"txtfiles/longrange/pendrybound\", pendrybound_long)\n",
    "writetxt(\"txtfiles/longrange/maxfid\", [max_value_long, max_index_long, max_value_long_2, max_index_long_2])"
   ]
  },
  {
   "cell_type": "code",
   "execution_count": 73,
   "metadata": {},
   "outputs": [],
   "source": [
    "## quantities for correlation plots\n",
    "t=np.linspace(0,3.2,3200)\n",
    "i=1\n",
    "for corr_evo in corr_evo_list:\n",
    "    i = i+11\n",
    "    \n",
    "    #for fid/dkl plots\n",
    "    \n",
    "    fid_corr  = [fidelity(corr_evo[0].ptrace(0), corr_evo[dt].ptrace(N)) for dt in range(len(t))]\n",
    "    dkl_corr_plots  = [entropy_relative(corr_evo[0].ptrace(0), corr_evo[dt].ptrace(N)) for dt in range(len(t))]\n",
    "    \n",
    "    dkl_corr = [entropy_relative(corr_evo[dt].ptrace(N), thermal_state(1)) for dt in range(len(t))]\n",
    "    dkl_dot_corr = np.diff(dkl_corr)/(dt)\n",
    "    heatflow_corr = [-1.j * (commutator(H_perf, corr_evo[dt]).ptrace(N) * (sigmaz())).tr() for dt in range(len(t))]\n",
    "    \n",
    "    vn_corr = [entropy_vn(corr_evo[dt].ptrace(N), base=np.e) for dt in range(len(t))]\n",
    "    i_dot_sq_corr = np.square(np.diff(vn_corr)/dt)#(np.pi/(3*hbar))\n",
    "    \n",
    "    pendry_corr = [(np.pi/(3*hbar)) * np.real(heatflow_corr[dt]) for dt in range(len(heatflow_corr))]\n",
    "#\n",
    "    writetxt(\"txtfiles/diff_beta/beta1>>beta2/\"+str(i)+\"_fidelity\", fid_corr)\n",
    "    writetxt(\"txtfiles/diff_beta/beta1>>beta2/\"+str(i)+\"_kld\", dkl_corr_plots)\n",
    "    writetxt(\"txtfiles/diff_beta/beta1>>beta2/\"+str(i)+\"_infoflow\", i_dot_sq_corr)\n",
    "    writetxt(\"txtfiles/diff_beta/beta1>>beta2/\"+str(i)+\"_pendry\", pendry_corr)\n",
    "    writetxt(\"txtfiles/newbound/\"+str(i)+\"_corr_edot_diff_beta_beta1>>beta2-newalpha\", np.real(heatflow_corr))\n",
    "    writetxt(\"txtfiles/newbound/\"+str(i)+\"_corr_dkldot_diff_beta_beta1>>beta2-newalpha\", dkl_dot_corr)\n"
   ]
  },
  {
   "cell_type": "code",
   "execution_count": 331,
   "metadata": {},
   "outputs": [
    {
     "name": "stdout",
     "output_type": "stream",
     "text": [
      "[9.71445147e-17 2.48336117e-01 2.51669438e-01 4.99994444e-01]\n"
     ]
    }
   ],
   "source": [
    "## new bound system setup\n",
    "\n",
    "t = np.linspace(0,3.2,3200)\n",
    "\n",
    "beta1 = 1/300\n",
    "beta2 = 1/300\n",
    "alpha = 1.j / (4*np.cosh(beta1)*np.cosh(beta2))\n",
    "chi = alpha * tensor(Qobj([[0,1],[0,0]]), Qobj([[0,0],[1,0]])) - alpha * tensor(Qobj([[0,0],[1,0]]), Qobj([[0,1],[0,0]]))\n",
    "\n",
    "first_second_state = tensor(thermal_state(beta1), thermal_state(beta2))\n",
    "corr_state = first_second_state + chi\n",
    "\n",
    "excited_state = Qobj([[1,0],[0,0]])\n",
    "ground_state = Qobj([[0,0],[0,1]])\n",
    "\n",
    "\n",
    "newbound_system_perf = tensor(first_second_state, ground_state, ground_state, ground_state)\n",
    "newbound_system_corr = tensor(corr_state, ground_state, ground_state, ground_state)\n",
    "\n",
    "\n",
    "newbound_perf_evo = qutip.mesolve(H_perf, newbound_system_perf, t, [], []).states\n",
    "newbound_corr_evo = qutip.mesolve(H_perf, newbound_system_corr, t, [], []).states\n",
    "\n",
    "print(corr_state.eigenenergies())\n"
   ]
  },
  {
   "cell_type": "code",
   "execution_count": 332,
   "metadata": {},
   "outputs": [
    {
     "name": "stdout",
     "output_type": "stream",
     "text": [
      "done!\n"
     ]
    }
   ],
   "source": [
    "## compute quantities\n",
    "\n",
    "t = np.linspace(0,3.2,3200)\n",
    "\n",
    "# uncorrelated\n",
    "\n",
    "vn_perf = np.real([entropy_vn(newbound_perf_evo[dt].ptrace(N), base=np.e) for dt in range(len(t))])\n",
    "#i_dot_perf = np.diff(vn_perf)/dt\n",
    "i_dot_sq_perf = np.square(np.diff(vn_perf)/dt)\n",
    "#\n",
    "#dkl_perf = np.real([entropy_relative(newbound_perf_evo[dt].ptrace(N), fifth_state) for dt in range(len(t))])\n",
    "#dkl_dot_perf = np.diff(dkl_perf)/(dt)\n",
    "#\n",
    "#heatflow_perf = np.real([1.j*(commutator(H_perf, newbound_perf_evo[dt]).ptrace(N) * (sigmaz())).tr() for dt in range(len(t))])\n",
    "#\n",
    "#dkl_perf_test = -1*np.array(vn_perf)+beta_here*np.array([expect(newbound_perf_evo[dt].ptrace(N), sigmaz()) for dt in range(len(t))]) + ln(2*np.cosh(beta_here))\n",
    "#dkl_dot_perf_test = np.diff(dkl_perf_test)/(dt)\n",
    "#\n",
    "pendrybound_perf = np.real([-1.j *(np.pi/(3*ln(2)**2)) * (commutator(H_perf, newbound_perf_evo[dt]).ptrace(N) * (sigmaz())).tr() for dt in range(len(t))])\n",
    "#\n",
    "print(\"done!\")\n",
    "\n",
    "# correlated\n",
    "\n",
    "#heatflow_corr = np.loadtxt(\"txtfiles/newbound/12_corr_edot.txt\")\n",
    "#dkl_dot_corr = np.loadtxt(\"txtfiles/newbound/12_corr_dkldot.txt\")\n",
    "#dkl_corr = np.real([entropy_relative(newbound_corr_evo[dt].ptrace(N), fifth_state) for dt in range(len(t))])\n",
    "#dkl_dot_corr = np.diff(dkl_corr)/(dt)\n",
    "heatflow_corr = np.real([-1.j * (commutator(H_perf, newbound_corr_evo[dt]).ptrace(N) * (sigmaz())).tr() for dt in range(len(t))])\n",
    "#heatflow_only_corr = [heatflow_corr[dt]-heatflow_perf[dt] for dt in range(len(t))]\n",
    "pendry_corr = np.pi/(3*ln(2)**2) * np.array(heatflow_corr)\n",
    "vn_corr = np.real([entropy_vn(newbound_corr_evo[dt].ptrace(N), base=np.e) for dt in range(len(t))])\n",
    "#dkl_corr_test = -1*np.array(vn_corr)+np.array([beta_here*expect(newbound_corr_evo[dt].ptrace(N), sigmaz()) for dt in range(len(t))]) + ln(2*np.cosh(beta_here))\n",
    "#dkl_dot_corr_test = np.diff(dkl_corr_test)/(dt)\n",
    "i_dot_corr = np.diff(vn_corr)/dt\n",
    "i_dot_sq_corr = np.square(np.diff(vn_corr)/dt)#\n",
    "simpler = [i_dot_sq_corr[dt] - i_dot_sq_perf[dt] + pendrybound_perf[dt] for dt in range(len(t)-1)]"
   ]
  },
  {
   "cell_type": "code",
   "execution_count": 311,
   "metadata": {},
   "outputs": [],
   "source": [
    "# compute new bound\n",
    "t=np.linspace(0,3.2,3200)\n",
    "from scipy.linalg import logm\n",
    "\n",
    "\n",
    "def new_rel_ent(rho, sigma):\n",
    "    rho, sigma = np.array(rho), np.array(sigma)\n",
    "    kld = rho * logm(rho) - rho * logm(sigma)\n",
    "    kld = Qobj(kld)\n",
    "    return kld.tr()\n",
    "\n",
    "\n",
    "#delta_dkl_chi = [dkl_dot_corr[dt] - dkl_dot_perf[dt] for dt in range(len(t)-1)]\n",
    "\n",
    "#print(dkl_corr[0], dkl_perf[0], delta_dkl_chi[0])\n",
    "\n",
    "#squared_terms = [i_dot_sq_perf[dt] + (beta_here*heatflow_only_corr[dt])**2 + delta_dkl_chi[dt]**2 for dt in range(len(t)-1)]\n",
    "\n",
    "\n",
    "\n",
    "#newbound = [(squared_terms[dt] + 2*beta_here*heatflow_only_corr[dt]*i_dot_perf[dt] - 2 * beta_here * heatflow_only_corr[dt] * delta_dkl_chi[dt] - 2*i_dot_perf[dt]*delta_dkl_chi[dt]) for dt in range(len(t)-1)]\n",
    "\n",
    "#newbound_test = [pendrybound_perf[dt] + (beta_here * heatflow_only_corr[dt] - delta_dkl_chi[dt])**2 + 2*i_dot_perf[dt]*(beta_here * heatflow_only_corr[dt] - delta_dkl_chi[dt]) for dt in range(len(t)-1)]\n",
    "\n",
    "\n",
    "#rip = pendrybound_perf[dt] + \n",
    "#print(fidelity(fifth_state, ground_state), min(newbound), max(newbound))\n",
    "\n",
    "#writetxt(\"txtfiles/newbound/newbound/12_corr_beta1=beta2_simpler\", simpler)\n",
    "#writetxt(\"txtfiles/newbound/newbound/12_corr_beta1=beta2_newbound\", newbound)\n",
    "#writetxt(\"txtfiles/newbound/newbound/12_corr_beta1=beta2_info\", i_dot_sq_corr)"
   ]
  },
  {
   "cell_type": "code",
   "execution_count": 333,
   "metadata": {},
   "outputs": [
    {
     "data": {
      "image/png": "[encoded data removed]",
      "text/plain": [
       "<Figure size 340.157x141.732 with 1 Axes>"
      ]
     },
     "metadata": {
      "needs_background": "light"
     },
     "output_type": "display_data"
    }
   ],
   "source": [
    "t=np.linspace(0,3.2,3200)\n",
    "\n",
    "fig, axs1= plt.subplots(figsize=(12*cm,5*cm))\n",
    "\n",
    "axs1.axhline(0, color=\"grey\", ls='--', linewidth=1)\n",
    "axs1.plot(t, pendrybound_perf, label=r\"$\\frac{\\pi}{3\\ln^22}\\displaystyle\\dot{E}_0$\", color = mpl.cm.get_cmap('magma')(2/4), ls=(0,(5,1.5)), lw=1)\n",
    "\n",
    "t=np.linspace(0,3.2,3199)\n",
    "\n",
    "\n",
    "axs1.plot(t, i_dot_sq_corr, label=r\"$\\dot{I}^2$\", color=cmap(2/3), ls='-', lw=1)\n",
    "#axs1.plot(t, simpler, label=r\"new bound\", color=cmap(1/3), ls='-', lw=1)\n",
    "\n",
    "\n",
    "axs1.axvline(np.pi, color='grey', ls=':', linewidth=1)\n",
    "axs1.set_xlabel(r'Time')\n",
    "\n",
    "fig.legend(loc=8, ncol=3)\n",
    "fig.tight_layout()\n",
    "fig.subplots_adjust(bottom=.44)\n",
    "#plt.savefig(\"alltheplots/newbound/corr12_beta1=beta2_old_uncorr_bound.pdf\")"
   ]
  },
  {
   "cell_type": "code",
   "execution_count": null,
   "metadata": {},
   "outputs": [],
   "source": [
    "_"
   ]
  }
 ],
 "metadata": {
  "interpreter": {
   "hash": "916dbcbb3f70747c44a77c7bcd40155683ae19c65e1c03b4aa3499c5328201f1"
  },
  "kernelspec": {
   "display_name": "Python 3 (ipykernel)",
   "language": "python",
   "name": "python3"
  },
  "language_info": {
   "codemirror_mode": {
    "name": "ipython",
    "version": 3
   },
   "file_extension": ".py",
   "mimetype": "text/x-python",
   "name": "python",
   "nbconvert_exporter": "python",
   "pygments_lexer": "ipython3",
   "version": "3.7.3"
  }
 },
 "nbformat": 4,
 "nbformat_minor": 4
}
